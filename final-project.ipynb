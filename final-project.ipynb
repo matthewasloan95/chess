{
 "cells": [
  {
   "cell_type": "markdown",
   "id": "d5d3d631-2027-4071-a765-e22f4c630a97",
   "metadata": {},
   "source": [
    "# Introduction\n",
    "Introduce the problem you are trying to solve, questions you are trying to answer, and/or overall goal of the project."
   ]
  },
  {
   "cell_type": "markdown",
   "id": "e45c9c37-353b-46b7-b4f8-f2276fbdb39e",
   "metadata": {},
   "source": [
    "# About the Data\n",
    "Describe where you got your data. This could include obtaining the data through Kaggle or other resources, or scraping the data yourself somehow.   \n",
    "   \n",
    "Also provide information about the dataset itself (what features, the size of the dataset, and any additional statistics or visualizations you create to better understand the data)."
   ]
  },
  {
   "cell_type": "markdown",
   "id": "18f92f42-f311-4547-bef3-7bfda326b1f6",
   "metadata": {},
   "source": [
    "# Methods\n",
    "This should include descriptions of any pre-processing steps and the modeling. If you experiment by trying things out in different iterations, it is encouraged to also talk about all of that! What worked or what didn’t? Were you able to improve upon the model(s) or gain new insights through different iterations?"
   ]
  },
  {
   "cell_type": "markdown",
   "id": "8535b6c5-21be-4164-afa4-f8020859a0ac",
   "metadata": {},
   "source": [
    "# Evaluation\n",
    "Based on your goal/model — how do you evaluate performance? What are the results?\n",
    "\n",
    "For example, if you are running classification models, what are the accuracies, f1 scores, etc.? If you had questions in the introduction, were you able to answer them (discuss that)? etc.\n",
    "\n",
    "Think about the best way to evaluate based on what you are trying to accomplish."
   ]
  },
  {
   "cell_type": "markdown",
   "id": "4c2a2bdd-8585-48e2-80bf-c530d58cc9c2",
   "metadata": {},
   "source": [
    "# Storytelling and Conclusion\n",
    "What insights did you gain through your project? Were you able to answer your initial problems? Obtain your initial goal? What stories can you tell? Do you have future steps in mind or things that could have been improved? ***For full credit here, you will need to show your critical thinking throughout.***\n",
    "\n",
    "What have you learned throughout this project and the entire class?"
   ]
  },
  {
   "cell_type": "markdown",
   "id": "4a08df34-4d68-481a-adef-16f968ff7959",
   "metadata": {},
   "source": [
    "# Impact Section\n",
    "Discuss the impact of your project. This can be socially, ethically, etc. It cannot be something like \"our project has no impact\" or \"our project has no negative impact.\" Even the most well-intentioned projects *could* have negative impact. We will not be checking for \"right\" or \"wrong\" answers, but showing your critical thinking."
   ]
  },
  {
   "cell_type": "markdown",
   "id": "617346d5-7cbb-4379-a87d-4f6473024bf4",
   "metadata": {},
   "source": [
    "# Github Repository/Code/Data\n",
    "Make sure to include the link to the repository and we are able to view it. Also include access to any data used."
   ]
  },
  {
   "cell_type": "markdown",
   "id": "6a0a339c-0d01-4ed0-8247-5f11ff3b986b",
   "metadata": {},
   "source": [
    "https://github.com/matthewasloan95/chess"
   ]
  },
  {
   "cell_type": "code",
   "execution_count": null,
   "id": "b59d9c27-36c9-483a-ac15-b71aff7c896a",
   "metadata": {},
   "outputs": [],
   "source": []
  }
 ],
 "metadata": {
  "kernelspec": {
   "display_name": "Python [conda env:dtsc] *",
   "language": "python",
   "name": "conda-env-dtsc-py"
  },
  "language_info": {
   "codemirror_mode": {
    "name": "ipython",
    "version": 3
   },
   "file_extension": ".py",
   "mimetype": "text/x-python",
   "name": "python",
   "nbconvert_exporter": "python",
   "pygments_lexer": "ipython3",
   "version": "3.9.15"
  }
 },
 "nbformat": 4,
 "nbformat_minor": 5
}
