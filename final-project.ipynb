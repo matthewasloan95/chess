{
 "cells": [
  {
   "cell_type": "markdown",
   "id": "d5d3d631-2027-4071-a765-e22f4c630a97",
   "metadata": {},
   "source": [
    "# Introduction\n",
    "Introduce the problem you are trying to solve, questions you are trying to answer, and/or overall goal of the project.   \n",
    "https://www.kaggle.com/datasets/datasnaek/chess  \n", 
    "Chess is a game of fine margins. There are many different strategies and techniques players can use to their advantage to win. Through our analysis of the chess data we hope that we can accurately predict what combinations of opening moves and other factors will contribute to them winning."
   ]
  },
  {
   "cell_type": "markdown",
   "id": "e45c9c37-353b-46b7-b4f8-f2276fbdb39e",
   "metadata": {},
   "source": [
    "# About the Data\n",
    "Describe where you got your data. This could include obtaining the data through Kaggle or other resources, or scraping the data yourself somehow.   \n",
    "   \n",
    "Also provide information about the dataset itself (what features, the size of the dataset, and any additional statistics or visualizations you create to better understand the data).   \n",
    "The size of this dataset has 20058 rows with with 16 variables   \n",
    "   \n",
    "The 16 variables:\n",
    "* game ID (str): unique identifier for each game\n",
    "* rated (boolean): whether or not the game counted for a rating \n",
    "* created_at (date): when the game started\n",
    "* last_move_at (date): when the game ended\n",
    "* turns (int): how many turns in the game\n",
    "* victory status (categorical): how did the game end? Ie out of time or resign\n",
    "* winner (categorical): who won\n",
    "* increment_code (str): time control\n",
    "* white_id (str): id of white player\n",
    "* white_rating (int): rating of white player\n",
    "* black_id (str): id of black player\n",
    "* black_rating (int): rating of black player\n",
    "* moves (str): every move made in order\n",
    "* opening_eco (categorical): code associated with opening name\n",
    "* opening name (categorical): opening moves strategy name\n",
    "* opening_ply (int): number of moves in opening phase"
   ]
  },
  {
   "cell_type": "markdown",
   "id": "18f92f42-f311-4547-bef3-7bfda326b1f6",
   "metadata": {},
   "source": [
    "# Methods\n",
    "This should include descriptions of any pre-processing steps and the modeling. If you experiment by trying things out in different iterations, it is encouraged to also talk about all of that! What worked or what didn’t? Were you able to improve upon the model(s) or gain new insights through different iterations?"
   ]
  },
  {
   "cell_type": "markdown",
   "id": "9cb45134-65eb-4cd8-99bf-7c051e028345",
   "metadata": {},
   "source": [
    "We want to keep the 'serious' games and rid of the games consisting of poorer performing players. The rating of players starts at 1500, thus, games with players rated under 1500 were filtered out. Additionally, only the ranked games were kept.   \n",
    "In an effort to only keep definite winners, all games that ended without a checkmate were also dropped, ie out of time and resignation.   \n",
    "Some variables were also added: rating difference, number of checks per game, and number of pawn changes per game."
   ]
  },
  {
   "cell_type": "markdown",
   "id": "3bd570a2-f1e5-47cc-90c9-058b855d9eb4",
   "metadata": {},
   "source": [
    ">our imports"
   ]
  },
  {
   "cell_type": "code",
   "execution_count": null,
   "id": "b59d9c27-36c9-483a-ac15-b71aff7c896a",
   "metadata": {},
   "outputs": [],
   "source": [
    "# for dataframes\n",
    "import pandas as pd\n",
    "pd.set_option('display.max_columns', None)\n",
    "\n",
    "# for nice plots\n",
    "import seaborn as sns\n",
    "\n",
    "# to disable warnings\n",
    "import warnings\n",
    "warnings.filterwarnings('ignore')\n",
    "\n",
    "# for some statistical analysis\n",
    "from statsmodels.stats.proportion import proportions_ztest, tost_proportions_2indep"
   ]
  },
  {
   "cell_type": "markdown",
   "id": "3999a25a-7ddc-4775-bbe7-a7145fbde6ef",
   "metadata": {},
   "source": [
    ">loading and filtering our df"
   ]
  },
  {
   "cell_type": "code",
   "execution_count": 2,
   "id": "519d77d7-112a-4a5d-8e2e-be1e52932119",
   "metadata": {},
   "outputs": [
    {
     "name": "stdout",
     "output_type": "stream",
     "text": [
      "(20058, 16)\n"
     ]
    }
   ],
   "source": [
    "df = pd.read_csv('archive.zip')\n",
    "print(df.shape)\n",
    "df = df.drop(['created_at', 'last_move_at', 'increment_code', 'white_id', 'black_id'], axis=1)\n",
    "df = df.loc[(df['victory_status'] == 'mate') & \n",
    "            (df['rated'] == True) & \n",
    "            (df['white_rating'] > 1500) &\n",
    "            (df['black_rating'] > 1500)]\n",
    "df['rating_diff'] = df['white_rating'] - df['black_rating']"
   ]
  },
  {
   "cell_type": "code",
   "execution_count": 3,
   "id": "14383abf-6e61-418f-8424-5b910054070f",
   "metadata": {},
   "outputs": [
    {
     "data": {
      "text/html": [
       "<div>\n",
       "<style scoped>\n",
       "    .dataframe tbody tr th:only-of-type {\n",
       "        vertical-align: middle;\n",
       "    }\n",
       "\n",
       "    .dataframe tbody tr th {\n",
       "        vertical-align: top;\n",
       "    }\n",
       "\n",
       "    .dataframe thead th {\n",
       "        text-align: right;\n",
       "    }\n",
       "</style>\n",
       "<table border=\"1\" class=\"dataframe\">\n",
       "  <thead>\n",
       "    <tr style=\"text-align: right;\">\n",
       "      <th></th>\n",
       "      <th>id</th>\n",
       "      <th>rated</th>\n",
       "      <th>turns</th>\n",
       "      <th>victory_status</th>\n",
       "      <th>winner</th>\n",
       "      <th>white_rating</th>\n",
       "      <th>black_rating</th>\n",
       "      <th>moves</th>\n",
       "      <th>opening_eco</th>\n",
       "      <th>opening_name</th>\n",
       "      <th>opening_ply</th>\n",
       "      <th>rating_diff</th>\n",
       "    </tr>\n",
       "  </thead>\n",
       "  <tbody>\n",
       "    <tr>\n",
       "      <th>64</th>\n",
       "      <td>XuyVUkDi</td>\n",
       "      <td>True</td>\n",
       "      <td>40</td>\n",
       "      <td>mate</td>\n",
       "      <td>black</td>\n",
       "      <td>1618</td>\n",
       "      <td>1568</td>\n",
       "      <td>e4 e6 Bc4 d5 exd5 exd5 Bb3 Qe7+ Ne2 Nf6 d4 Nc6...</td>\n",
       "      <td>C00</td>\n",
       "      <td>French Defense #2</td>\n",
       "      <td>2</td>\n",
       "      <td>50</td>\n",
       "    </tr>\n",
       "    <tr>\n",
       "      <th>71</th>\n",
       "      <td>DHuXFP6C</td>\n",
       "      <td>True</td>\n",
       "      <td>87</td>\n",
       "      <td>mate</td>\n",
       "      <td>white</td>\n",
       "      <td>1617</td>\n",
       "      <td>1590</td>\n",
       "      <td>d4 Nf6 e3 g6 f4 Bg7 Nf3 d5 c4 O-O Nc3 c6 Bd3 e...</td>\n",
       "      <td>A45</td>\n",
       "      <td>Indian Game</td>\n",
       "      <td>2</td>\n",
       "      <td>27</td>\n",
       "    </tr>\n",
       "    <tr>\n",
       "      <th>79</th>\n",
       "      <td>7kK30TmL</td>\n",
       "      <td>True</td>\n",
       "      <td>64</td>\n",
       "      <td>mate</td>\n",
       "      <td>black</td>\n",
       "      <td>1768</td>\n",
       "      <td>1560</td>\n",
       "      <td>e4 e6 f4 d5 e5 c5 Nf3 Nc6 c3 Nh6 d4 cxd4 cxd4 ...</td>\n",
       "      <td>C00</td>\n",
       "      <td>French Defense: La Bourdonnais Variation</td>\n",
       "      <td>3</td>\n",
       "      <td>208</td>\n",
       "    </tr>\n",
       "    <tr>\n",
       "      <th>81</th>\n",
       "      <td>4dH72B3d</td>\n",
       "      <td>True</td>\n",
       "      <td>57</td>\n",
       "      <td>mate</td>\n",
       "      <td>white</td>\n",
       "      <td>1536</td>\n",
       "      <td>1667</td>\n",
       "      <td>d4 Nf6 Bf4 d5 Nf3 Nc6 e3 Bg4 h3 Bh5 c4 e6 Qa4 ...</td>\n",
       "      <td>D02</td>\n",
       "      <td>Queen's Pawn Game: London System</td>\n",
       "      <td>5</td>\n",
       "      <td>-131</td>\n",
       "    </tr>\n",
       "    <tr>\n",
       "      <th>95</th>\n",
       "      <td>TVfozmF5</td>\n",
       "      <td>True</td>\n",
       "      <td>85</td>\n",
       "      <td>mate</td>\n",
       "      <td>white</td>\n",
       "      <td>1513</td>\n",
       "      <td>1784</td>\n",
       "      <td>d4 e6 Bf4 d5 Nf3 Qe7 e3 c5 c3 cxd4 Bb5+ Bd7 Bx...</td>\n",
       "      <td>A40</td>\n",
       "      <td>Horwitz Defense</td>\n",
       "      <td>2</td>\n",
       "      <td>-271</td>\n",
       "    </tr>\n",
       "  </tbody>\n",
       "</table>\n",
       "</div>"
      ],
      "text/plain": [
       "          id  rated  turns victory_status winner  white_rating  black_rating  \\\n",
       "64  XuyVUkDi   True     40           mate  black          1618          1568   \n",
       "71  DHuXFP6C   True     87           mate  white          1617          1590   \n",
       "79  7kK30TmL   True     64           mate  black          1768          1560   \n",
       "81  4dH72B3d   True     57           mate  white          1536          1667   \n",
       "95  TVfozmF5   True     85           mate  white          1513          1784   \n",
       "\n",
       "                                                moves opening_eco  \\\n",
       "64  e4 e6 Bc4 d5 exd5 exd5 Bb3 Qe7+ Ne2 Nf6 d4 Nc6...         C00   \n",
       "71  d4 Nf6 e3 g6 f4 Bg7 Nf3 d5 c4 O-O Nc3 c6 Bd3 e...         A45   \n",
       "79  e4 e6 f4 d5 e5 c5 Nf3 Nc6 c3 Nh6 d4 cxd4 cxd4 ...         C00   \n",
       "81  d4 Nf6 Bf4 d5 Nf3 Nc6 e3 Bg4 h3 Bh5 c4 e6 Qa4 ...         D02   \n",
       "95  d4 e6 Bf4 d5 Nf3 Qe7 e3 c5 c3 cxd4 Bb5+ Bd7 Bx...         A40   \n",
       "\n",
       "                                opening_name  opening_ply  rating_diff  \n",
       "64                         French Defense #2            2           50  \n",
       "71                               Indian Game            2           27  \n",
       "79  French Defense: La Bourdonnais Variation            3          208  \n",
       "81          Queen's Pawn Game: London System            5         -131  \n",
       "95                           Horwitz Defense            2         -271  "
      ]
     },
     "execution_count": 3,
     "metadata": {},
     "output_type": "execute_result"
    }
   ],
   "source": [
    "df.head()"
   ]
  },
  {
   "cell_type": "code",
   "execution_count": 4,
   "id": "ca09c7ca-e998-4bad-954b-3bea20d97f04",
   "metadata": {},
   "outputs": [
    {
     "data": {
      "text/html": [
       "<div>\n",
       "<style scoped>\n",
       "    .dataframe tbody tr th:only-of-type {\n",
       "        vertical-align: middle;\n",
       "    }\n",
       "\n",
       "    .dataframe tbody tr th {\n",
       "        vertical-align: top;\n",
       "    }\n",
       "\n",
       "    .dataframe thead th {\n",
       "        text-align: right;\n",
       "    }\n",
       "</style>\n",
       "<table border=\"1\" class=\"dataframe\">\n",
       "  <thead>\n",
       "    <tr style=\"text-align: right;\">\n",
       "      <th></th>\n",
       "      <th>turns</th>\n",
       "      <th>white_rating</th>\n",
       "      <th>black_rating</th>\n",
       "      <th>opening_ply</th>\n",
       "      <th>rating_diff</th>\n",
       "    </tr>\n",
       "  </thead>\n",
       "  <tbody>\n",
       "    <tr>\n",
       "      <th>count</th>\n",
       "      <td>1986.000000</td>\n",
       "      <td>1986.000000</td>\n",
       "      <td>1986.000000</td>\n",
       "      <td>1986.000000</td>\n",
       "      <td>1986.000000</td>\n",
       "    </tr>\n",
       "    <tr>\n",
       "      <th>mean</th>\n",
       "      <td>73.377644</td>\n",
       "      <td>1761.833837</td>\n",
       "      <td>1767.731118</td>\n",
       "      <td>5.199396</td>\n",
       "      <td>-5.897281</td>\n",
       "    </tr>\n",
       "    <tr>\n",
       "      <th>std</th>\n",
       "      <td>35.597164</td>\n",
       "      <td>185.592502</td>\n",
       "      <td>186.174197</td>\n",
       "      <td>2.920357</td>\n",
       "      <td>177.174475</td>\n",
       "    </tr>\n",
       "    <tr>\n",
       "      <th>min</th>\n",
       "      <td>4.000000</td>\n",
       "      <td>1501.000000</td>\n",
       "      <td>1501.000000</td>\n",
       "      <td>1.000000</td>\n",
       "      <td>-726.000000</td>\n",
       "    </tr>\n",
       "    <tr>\n",
       "      <th>25%</th>\n",
       "      <td>48.000000</td>\n",
       "      <td>1612.000000</td>\n",
       "      <td>1614.000000</td>\n",
       "      <td>3.000000</td>\n",
       "      <td>-89.000000</td>\n",
       "    </tr>\n",
       "    <tr>\n",
       "      <th>50%</th>\n",
       "      <td>65.500000</td>\n",
       "      <td>1730.000000</td>\n",
       "      <td>1737.000000</td>\n",
       "      <td>5.000000</td>\n",
       "      <td>-1.500000</td>\n",
       "    </tr>\n",
       "    <tr>\n",
       "      <th>75%</th>\n",
       "      <td>94.000000</td>\n",
       "      <td>1870.000000</td>\n",
       "      <td>1879.750000</td>\n",
       "      <td>7.000000</td>\n",
       "      <td>77.000000</td>\n",
       "    </tr>\n",
       "    <tr>\n",
       "      <th>max</th>\n",
       "      <td>222.000000</td>\n",
       "      <td>2447.000000</td>\n",
       "      <td>2462.000000</td>\n",
       "      <td>19.000000</td>\n",
       "      <td>715.000000</td>\n",
       "    </tr>\n",
       "  </tbody>\n",
       "</table>\n",
       "</div>"
      ],
      "text/plain": [
       "             turns  white_rating  black_rating  opening_ply  rating_diff\n",
       "count  1986.000000   1986.000000   1986.000000  1986.000000  1986.000000\n",
       "mean     73.377644   1761.833837   1767.731118     5.199396    -5.897281\n",
       "std      35.597164    185.592502    186.174197     2.920357   177.174475\n",
       "min       4.000000   1501.000000   1501.000000     1.000000  -726.000000\n",
       "25%      48.000000   1612.000000   1614.000000     3.000000   -89.000000\n",
       "50%      65.500000   1730.000000   1737.000000     5.000000    -1.500000\n",
       "75%      94.000000   1870.000000   1879.750000     7.000000    77.000000\n",
       "max     222.000000   2447.000000   2462.000000    19.000000   715.000000"
      ]
     },
     "execution_count": 4,
     "metadata": {},
     "output_type": "execute_result"
    }
   ],
   "source": [
    "df.describe()"
   ]
  },
  {
   "cell_type": "code",
   "execution_count": 5,
   "id": "ac782de0-d507-4625-8e57-1c3a4eb5d6fe",
   "metadata": {},
   "outputs": [
    {
     "data": {
      "text/html": [
       "<div>\n",
       "<style scoped>\n",
       "    .dataframe tbody tr th:only-of-type {\n",
       "        vertical-align: middle;\n",
       "    }\n",
       "\n",
       "    .dataframe tbody tr th {\n",
       "        vertical-align: top;\n",
       "    }\n",
       "\n",
       "    .dataframe thead th {\n",
       "        text-align: right;\n",
       "    }\n",
       "</style>\n",
       "<table border=\"1\" class=\"dataframe\">\n",
       "  <thead>\n",
       "    <tr style=\"text-align: right;\">\n",
       "      <th></th>\n",
       "      <th>id</th>\n",
       "      <th>rated</th>\n",
       "      <th>turns</th>\n",
       "      <th>victory_status</th>\n",
       "      <th>winner</th>\n",
       "      <th>white_rating</th>\n",
       "      <th>black_rating</th>\n",
       "      <th>moves</th>\n",
       "      <th>opening_eco</th>\n",
       "      <th>opening_name</th>\n",
       "      <th>opening_ply</th>\n",
       "      <th>rating_diff</th>\n",
       "    </tr>\n",
       "  </thead>\n",
       "  <tbody>\n",
       "    <tr>\n",
       "      <th>4899</th>\n",
       "      <td>hgwn2QJz</td>\n",
       "      <td>True</td>\n",
       "      <td>35</td>\n",
       "      <td>mate</td>\n",
       "      <td>white</td>\n",
       "      <td>2291</td>\n",
       "      <td>1576</td>\n",
       "      <td>e4 e5 Nf3 Nc6 Bb5 a6 Ba4 Nf6 d3 Bc5 O-O O-O Bx...</td>\n",
       "      <td>C77</td>\n",
       "      <td>Ruy Lopez: Morphy Defense |  Anderssen Variation</td>\n",
       "      <td>9</td>\n",
       "      <td>715</td>\n",
       "    </tr>\n",
       "  </tbody>\n",
       "</table>\n",
       "</div>"
      ],
      "text/plain": [
       "            id  rated  turns victory_status winner  white_rating  \\\n",
       "4899  hgwn2QJz   True     35           mate  white          2291   \n",
       "\n",
       "      black_rating                                              moves  \\\n",
       "4899          1576  e4 e5 Nf3 Nc6 Bb5 a6 Ba4 Nf6 d3 Bc5 O-O O-O Bx...   \n",
       "\n",
       "     opening_eco                                      opening_name  \\\n",
       "4899         C77  Ruy Lopez: Morphy Defense |  Anderssen Variation   \n",
       "\n",
       "      opening_ply  rating_diff  \n",
       "4899            9          715  "
      ]
     },
     "execution_count": 5,
     "metadata": {},
     "output_type": "execute_result"
    }
   ],
   "source": [
    "df.loc[df['rating_diff'] > 700]"
   ]
  },
  {
   "cell_type": "code",
   "execution_count": 6,
   "id": "5b7f3dae-e029-4c79-81e1-6997db3ed32c",
   "metadata": {},
   "outputs": [
    {
     "data": {
      "text/html": [
       "<div>\n",
       "<style scoped>\n",
       "    .dataframe tbody tr th:only-of-type {\n",
       "        vertical-align: middle;\n",
       "    }\n",
       "\n",
       "    .dataframe tbody tr th {\n",
       "        vertical-align: top;\n",
       "    }\n",
       "\n",
       "    .dataframe thead th {\n",
       "        text-align: right;\n",
       "    }\n",
       "</style>\n",
       "<table border=\"1\" class=\"dataframe\">\n",
       "  <thead>\n",
       "    <tr style=\"text-align: right;\">\n",
       "      <th></th>\n",
       "      <th>id</th>\n",
       "      <th>rated</th>\n",
       "      <th>turns</th>\n",
       "      <th>victory_status</th>\n",
       "      <th>winner</th>\n",
       "      <th>white_rating</th>\n",
       "      <th>black_rating</th>\n",
       "      <th>moves</th>\n",
       "      <th>opening_eco</th>\n",
       "      <th>opening_name</th>\n",
       "      <th>opening_ply</th>\n",
       "      <th>rating_diff</th>\n",
       "    </tr>\n",
       "  </thead>\n",
       "  <tbody>\n",
       "    <tr>\n",
       "      <th>6981</th>\n",
       "      <td>rxfAX58s</td>\n",
       "      <td>True</td>\n",
       "      <td>122</td>\n",
       "      <td>mate</td>\n",
       "      <td>black</td>\n",
       "      <td>1540</td>\n",
       "      <td>2266</td>\n",
       "      <td>d4 d5 c3 Nc6 b3 a6 a3 e6 e3 Nf6 f3 e5 Bd3 e4 f...</td>\n",
       "      <td>D00</td>\n",
       "      <td>Queen's Pawn Game</td>\n",
       "      <td>2</td>\n",
       "      <td>-726</td>\n",
       "    </tr>\n",
       "  </tbody>\n",
       "</table>\n",
       "</div>"
      ],
      "text/plain": [
       "            id  rated  turns victory_status winner  white_rating  \\\n",
       "6981  rxfAX58s   True    122           mate  black          1540   \n",
       "\n",
       "      black_rating                                              moves  \\\n",
       "6981          2266  d4 d5 c3 Nc6 b3 a6 a3 e6 e3 Nf6 f3 e5 Bd3 e4 f...   \n",
       "\n",
       "     opening_eco       opening_name  opening_ply  rating_diff  \n",
       "6981         D00  Queen's Pawn Game            2         -726  "
      ]
     },
     "execution_count": 6,
     "metadata": {},
     "output_type": "execute_result"
    }
   ],
   "source": [
    "df.loc[df['rating_diff'] < -700]"
   ]
  },
  {
   "cell_type": "code",
   "execution_count": 7,
   "id": "fcd89146-f48a-438f-a5f2-6da7021f139b",
   "metadata": {},
   "outputs": [
    {
     "data": {
      "text/plain": [
       "<AxesSubplot: xlabel='rating_diff'>"
      ]
     },
     "execution_count": 7,
     "metadata": {},
     "output_type": "execute_result"
    },
    {
     "data": {
      "image/png": "[encoded data removed]",
      "text/plain": [
       "<Figure size 640x480 with 1 Axes>"
      ]
     },
     "metadata": {},
     "output_type": "display_data"
    }
   ],
   "source": [
    "sns.boxplot(data = df, x = 'rating_diff')"
   ]
  },
  {
   "cell_type": "code",
   "execution_count": 8,
   "id": "92d0ae4d-3210-4c0d-8c64-2315ced3a9d2",
   "metadata": {},
   "outputs": [
    {
     "data": {
      "text/plain": [
       "<AxesSubplot: xlabel='opening_eco', ylabel='count'>"
      ]
     },
     "execution_count": 8,
     "metadata": {},
     "output_type": "execute_result"
    },
    {
     "data": {
      "image/png": "[encoded data removed]",
      "text/plain": [
       "<Figure size 640x480 with 1 Axes>"
      ]
     },
     "metadata": {},
     "output_type": "display_data"
    }
   ],
   "source": [
    "sns.countplot(data = df.loc[(df['winner'] == 'white')], x='opening_eco')"
   ]
  },
  {
   "cell_type": "markdown",
   "id": "3d7aea1d-cd5f-4b02-acef-c3f09a2053fe",
   "metadata": {},
   "source": [
    "How many games moves were duplicates of another?"
   ]
  },
  {
   "cell_type": "code",
   "execution_count": 9,
   "id": "b5bce364-a945-4251-bb95-3aff82c9e20f",
   "metadata": {},
   "outputs": [
    {
     "data": {
      "text/html": [
       "<div>\n",
       "<style scoped>\n",
       "    .dataframe tbody tr th:only-of-type {\n",
       "        vertical-align: middle;\n",
       "    }\n",
       "\n",
       "    .dataframe tbody tr th {\n",
       "        vertical-align: top;\n",
       "    }\n",
       "\n",
       "    .dataframe thead th {\n",
       "        text-align: right;\n",
       "    }\n",
       "</style>\n",
       "<table border=\"1\" class=\"dataframe\">\n",
       "  <thead>\n",
       "    <tr style=\"text-align: right;\">\n",
       "      <th></th>\n",
       "      <th>id</th>\n",
       "      <th>rated</th>\n",
       "      <th>turns</th>\n",
       "      <th>victory_status</th>\n",
       "      <th>winner</th>\n",
       "      <th>white_rating</th>\n",
       "      <th>black_rating</th>\n",
       "      <th>moves</th>\n",
       "      <th>opening_eco</th>\n",
       "      <th>opening_name</th>\n",
       "      <th>opening_ply</th>\n",
       "      <th>rating_diff</th>\n",
       "    </tr>\n",
       "  </thead>\n",
       "  <tbody>\n",
       "    <tr>\n",
       "      <th>862</th>\n",
       "      <td>eP09Yv7W</td>\n",
       "      <td>True</td>\n",
       "      <td>4</td>\n",
       "      <td>mate</td>\n",
       "      <td>black</td>\n",
       "      <td>1527</td>\n",
       "      <td>1882</td>\n",
       "      <td>f4 e6 g4 Qh4#</td>\n",
       "      <td>A02</td>\n",
       "      <td>Bird Opening</td>\n",
       "      <td>1</td>\n",
       "      <td>-355</td>\n",
       "    </tr>\n",
       "    <tr>\n",
       "      <th>864</th>\n",
       "      <td>V7a3QIoB</td>\n",
       "      <td>True</td>\n",
       "      <td>4</td>\n",
       "      <td>mate</td>\n",
       "      <td>black</td>\n",
       "      <td>1533</td>\n",
       "      <td>1897</td>\n",
       "      <td>f4 e6 g4 Qh4#</td>\n",
       "      <td>A02</td>\n",
       "      <td>Bird Opening</td>\n",
       "      <td>1</td>\n",
       "      <td>-364</td>\n",
       "    </tr>\n",
       "    <tr>\n",
       "      <th>867</th>\n",
       "      <td>pSa9EQDs</td>\n",
       "      <td>True</td>\n",
       "      <td>4</td>\n",
       "      <td>mate</td>\n",
       "      <td>black</td>\n",
       "      <td>1552</td>\n",
       "      <td>1887</td>\n",
       "      <td>f4 e6 g4 Qh4#</td>\n",
       "      <td>A02</td>\n",
       "      <td>Bird Opening</td>\n",
       "      <td>1</td>\n",
       "      <td>-335</td>\n",
       "    </tr>\n",
       "    <tr>\n",
       "      <th>10327</th>\n",
       "      <td>Iuo32IUI</td>\n",
       "      <td>True</td>\n",
       "      <td>41</td>\n",
       "      <td>mate</td>\n",
       "      <td>white</td>\n",
       "      <td>2247</td>\n",
       "      <td>2094</td>\n",
       "      <td>e4 c5 b4 cxb4 a3 bxa3 Nxa3 Nc6 d4 d5 exd5 Qxd5...</td>\n",
       "      <td>B20</td>\n",
       "      <td>Sicilian Defense: Wing Gambit |  Carlsbad Vari...</td>\n",
       "      <td>6</td>\n",
       "      <td>153</td>\n",
       "    </tr>\n",
       "    <tr>\n",
       "      <th>11214</th>\n",
       "      <td>hrnqkGeJ</td>\n",
       "      <td>True</td>\n",
       "      <td>54</td>\n",
       "      <td>mate</td>\n",
       "      <td>black</td>\n",
       "      <td>2004</td>\n",
       "      <td>2073</td>\n",
       "      <td>e4 Nf6 Nc3 e5 Nf3 Nc6 d4 exd4 Nxd4 Bb4 Nxc6 bx...</td>\n",
       "      <td>C47</td>\n",
       "      <td>Four Knights Game: Scotch Variation Accepted</td>\n",
       "      <td>8</td>\n",
       "      <td>-69</td>\n",
       "    </tr>\n",
       "    <tr>\n",
       "      <th>...</th>\n",
       "      <td>...</td>\n",
       "      <td>...</td>\n",
       "      <td>...</td>\n",
       "      <td>...</td>\n",
       "      <td>...</td>\n",
       "      <td>...</td>\n",
       "      <td>...</td>\n",
       "      <td>...</td>\n",
       "      <td>...</td>\n",
       "      <td>...</td>\n",
       "      <td>...</td>\n",
       "      <td>...</td>\n",
       "    </tr>\n",
       "    <tr>\n",
       "      <th>19336</th>\n",
       "      <td>lmk7lokQ</td>\n",
       "      <td>True</td>\n",
       "      <td>98</td>\n",
       "      <td>mate</td>\n",
       "      <td>black</td>\n",
       "      <td>2104</td>\n",
       "      <td>2098</td>\n",
       "      <td>e4 c6 Nc3 d5 d4 dxe4 Nxe4 Bf5 Ng3 Bg6 Nf3 Nd7 ...</td>\n",
       "      <td>B19</td>\n",
       "      <td>Caro-Kann Defense: Classical |  Spassky Variation</td>\n",
       "      <td>15</td>\n",
       "      <td>6</td>\n",
       "    </tr>\n",
       "    <tr>\n",
       "      <th>19337</th>\n",
       "      <td>34BzwAwa</td>\n",
       "      <td>True</td>\n",
       "      <td>43</td>\n",
       "      <td>mate</td>\n",
       "      <td>white</td>\n",
       "      <td>2029</td>\n",
       "      <td>2117</td>\n",
       "      <td>e4 e5 Nf3 Nc6 Nc3 Nf6 Bb5 d6 d4 exd4 Nxd4 Bd7 ...</td>\n",
       "      <td>C48</td>\n",
       "      <td>Four Knights Game: Spanish Variation</td>\n",
       "      <td>7</td>\n",
       "      <td>-88</td>\n",
       "    </tr>\n",
       "    <tr>\n",
       "      <th>19339</th>\n",
       "      <td>63PiJLzL</td>\n",
       "      <td>True</td>\n",
       "      <td>70</td>\n",
       "      <td>mate</td>\n",
       "      <td>black</td>\n",
       "      <td>1706</td>\n",
       "      <td>1983</td>\n",
       "      <td>d4 Nf6 Bf4 d5 Nf3 c5 Nbd2 cxd4 Nxd4 Nbd7 Bg3 e...</td>\n",
       "      <td>D02</td>\n",
       "      <td>Queen's Pawn Game: London System</td>\n",
       "      <td>5</td>\n",
       "      <td>-277</td>\n",
       "    </tr>\n",
       "    <tr>\n",
       "      <th>19342</th>\n",
       "      <td>2KGzYnb8</td>\n",
       "      <td>True</td>\n",
       "      <td>52</td>\n",
       "      <td>mate</td>\n",
       "      <td>black</td>\n",
       "      <td>1728</td>\n",
       "      <td>1662</td>\n",
       "      <td>e4 c6 d4 d5 e5 Bf5 Bd3 Bxd3 Qxd3 Qb6 c3 Nd7 Ne...</td>\n",
       "      <td>B12</td>\n",
       "      <td>Caro-Kann Defense: Advance Variation</td>\n",
       "      <td>5</td>\n",
       "      <td>66</td>\n",
       "    </tr>\n",
       "    <tr>\n",
       "      <th>19889</th>\n",
       "      <td>3cIFrSEh</td>\n",
       "      <td>True</td>\n",
       "      <td>48</td>\n",
       "      <td>mate</td>\n",
       "      <td>black</td>\n",
       "      <td>1586</td>\n",
       "      <td>1558</td>\n",
       "      <td>e4 e5 Nf3 Nf6 d3 d5 exd5 Nxd5 d4 Bg4 Be2 exd4 ...</td>\n",
       "      <td>C42</td>\n",
       "      <td>Petrov's Defense</td>\n",
       "      <td>4</td>\n",
       "      <td>28</td>\n",
       "    </tr>\n",
       "  </tbody>\n",
       "</table>\n",
       "<p>106 rows × 12 columns</p>\n",
       "</div>"
      ],
      "text/plain": [
       "             id  rated  turns victory_status winner  white_rating  \\\n",
       "862    eP09Yv7W   True      4           mate  black          1527   \n",
       "864    V7a3QIoB   True      4           mate  black          1533   \n",
       "867    pSa9EQDs   True      4           mate  black          1552   \n",
       "10327  Iuo32IUI   True     41           mate  white          2247   \n",
       "11214  hrnqkGeJ   True     54           mate  black          2004   \n",
       "...         ...    ...    ...            ...    ...           ...   \n",
       "19336  lmk7lokQ   True     98           mate  black          2104   \n",
       "19337  34BzwAwa   True     43           mate  white          2029   \n",
       "19339  63PiJLzL   True     70           mate  black          1706   \n",
       "19342  2KGzYnb8   True     52           mate  black          1728   \n",
       "19889  3cIFrSEh   True     48           mate  black          1586   \n",
       "\n",
       "       black_rating                                              moves  \\\n",
       "862            1882                                      f4 e6 g4 Qh4#   \n",
       "864            1897                                      f4 e6 g4 Qh4#   \n",
       "867            1887                                      f4 e6 g4 Qh4#   \n",
       "10327          2094  e4 c5 b4 cxb4 a3 bxa3 Nxa3 Nc6 d4 d5 exd5 Qxd5...   \n",
       "11214          2073  e4 Nf6 Nc3 e5 Nf3 Nc6 d4 exd4 Nxd4 Bb4 Nxc6 bx...   \n",
       "...             ...                                                ...   \n",
       "19336          2098  e4 c6 Nc3 d5 d4 dxe4 Nxe4 Bf5 Ng3 Bg6 Nf3 Nd7 ...   \n",
       "19337          2117  e4 e5 Nf3 Nc6 Nc3 Nf6 Bb5 d6 d4 exd4 Nxd4 Bd7 ...   \n",
       "19339          1983  d4 Nf6 Bf4 d5 Nf3 c5 Nbd2 cxd4 Nxd4 Nbd7 Bg3 e...   \n",
       "19342          1662  e4 c6 d4 d5 e5 Bf5 Bd3 Bxd3 Qxd3 Qb6 c3 Nd7 Ne...   \n",
       "19889          1558  e4 e5 Nf3 Nf6 d3 d5 exd5 Nxd5 d4 Bg4 Be2 exd4 ...   \n",
       "\n",
       "      opening_eco                                       opening_name  \\\n",
       "862           A02                                       Bird Opening   \n",
       "864           A02                                       Bird Opening   \n",
       "867           A02                                       Bird Opening   \n",
       "10327         B20  Sicilian Defense: Wing Gambit |  Carlsbad Vari...   \n",
       "11214         C47       Four Knights Game: Scotch Variation Accepted   \n",
       "...           ...                                                ...   \n",
       "19336         B19  Caro-Kann Defense: Classical |  Spassky Variation   \n",
       "19337         C48               Four Knights Game: Spanish Variation   \n",
       "19339         D02                   Queen's Pawn Game: London System   \n",
       "19342         B12               Caro-Kann Defense: Advance Variation   \n",
       "19889         C42                                   Petrov's Defense   \n",
       "\n",
       "       opening_ply  rating_diff  \n",
       "862              1         -355  \n",
       "864              1         -364  \n",
       "867              1         -335  \n",
       "10327            6          153  \n",
       "11214            8          -69  \n",
       "...            ...          ...  \n",
       "19336           15            6  \n",
       "19337            7          -88  \n",
       "19339            5         -277  \n",
       "19342            5           66  \n",
       "19889            4           28  \n",
       "\n",
       "[106 rows x 12 columns]"
      ]
     },
     "execution_count": 9,
     "metadata": {},
     "output_type": "execute_result"
    }
   ],
   "source": [
    "df.loc[df['moves'].duplicated()]"
   ]
  },
  {
   "cell_type": "markdown",
   "id": "6a29f66e-925f-425a-8a66-ac95576353e5",
   "metadata": {},
   "source": [
    ">Games that end in four or fewer moves are too quick"
   ]
  },
  {
   "cell_type": "code",
   "execution_count": 10,
   "id": "f85623b2-d103-4453-bcfa-f132f3349a7d",
   "metadata": {},
   "outputs": [],
   "source": [
    "df = df.loc[df['turns'] > 4]"
   ]
  },
  {
   "cell_type": "code",
   "execution_count": 11,
   "id": "81dcfa42-f8b3-4180-8a99-496f6dd661a0",
   "metadata": {},
   "outputs": [],
   "source": [
    "counts = df['opening_eco'].value_counts()"
   ]
  },
  {
   "cell_type": "code",
   "execution_count": 12,
   "id": "76ea094a-df1f-4543-9e04-3dd285df653f",
   "metadata": {},
   "outputs": [],
   "source": [
    "counts = counts.loc[counts < 5]"
   ]
  },
  {
   "cell_type": "code",
   "execution_count": 13,
   "id": "9ca8842f-f550-438f-9adc-0f42195a6828",
   "metadata": {},
   "outputs": [],
   "source": [
    "counts = list(counts.index)"
   ]
  },
  {
   "cell_type": "code",
   "execution_count": 14,
   "id": "83b5eaba-66af-4669-97e3-4627284254be",
   "metadata": {},
   "outputs": [],
   "source": [
    "df = df[~df.opening_eco.isin(counts)]"
   ]
  },
  {
   "cell_type": "code",
   "execution_count": 15,
   "id": "69b43fce-8a08-42f5-8663-6135d93c89cc",
   "metadata": {},
   "outputs": [
    {
     "data": {
      "text/plain": [
       "<AxesSubplot: xlabel='opening_eco', ylabel='count'>"
      ]
     },
     "execution_count": 15,
     "metadata": {},
     "output_type": "execute_result"
    },
    {
     "data": {
      "image/png": "[encoded data removed]",
      "text/plain": [
       "<Figure size 640x480 with 1 Axes>"
      ]
     },
     "metadata": {},
     "output_type": "display_data"
    }
   ],
   "source": [
    "sns.countplot(data = df.loc[(df['winner'] == 'white')], x='opening_eco')"
   ]
  },
  {
   "cell_type": "code",
   "execution_count": 16,
   "id": "871890d2-185e-4877-9ffa-828616d9192c",
   "metadata": {},
   "outputs": [
    {
     "data": {
      "text/plain": [
       "(1709, 12)"
      ]
     },
     "execution_count": 16,
     "metadata": {},
     "output_type": "execute_result"
    }
   ],
   "source": [
    "df.shape"
   ]
  },
  {
   "cell_type": "code",
   "execution_count": 17,
   "id": "3ec5343d-b7c8-45ef-ae85-f94fc7359bc0",
   "metadata": {},
   "outputs": [
    {
     "data": {
      "text/html": [
       "<div>\n",
       "<style scoped>\n",
       "    .dataframe tbody tr th:only-of-type {\n",
       "        vertical-align: middle;\n",
       "    }\n",
       "\n",
       "    .dataframe tbody tr th {\n",
       "        vertical-align: top;\n",
       "    }\n",
       "\n",
       "    .dataframe thead th {\n",
       "        text-align: right;\n",
       "    }\n",
       "</style>\n",
       "<table border=\"1\" class=\"dataframe\">\n",
       "  <thead>\n",
       "    <tr style=\"text-align: right;\">\n",
       "      <th></th>\n",
       "      <th>turns</th>\n",
       "      <th>white_rating</th>\n",
       "      <th>black_rating</th>\n",
       "      <th>opening_ply</th>\n",
       "      <th>rating_diff</th>\n",
       "    </tr>\n",
       "  </thead>\n",
       "  <tbody>\n",
       "    <tr>\n",
       "      <th>count</th>\n",
       "      <td>1709.000000</td>\n",
       "      <td>1709.000000</td>\n",
       "      <td>1709.000000</td>\n",
       "      <td>1709.000000</td>\n",
       "      <td>1709.000000</td>\n",
       "    </tr>\n",
       "    <tr>\n",
       "      <th>mean</th>\n",
       "      <td>73.164424</td>\n",
       "      <td>1753.471621</td>\n",
       "      <td>1759.155647</td>\n",
       "      <td>4.777063</td>\n",
       "      <td>-5.684026</td>\n",
       "    </tr>\n",
       "    <tr>\n",
       "      <th>std</th>\n",
       "      <td>35.421358</td>\n",
       "      <td>180.567762</td>\n",
       "      <td>182.456043</td>\n",
       "      <td>2.515765</td>\n",
       "      <td>172.599554</td>\n",
       "    </tr>\n",
       "    <tr>\n",
       "      <th>min</th>\n",
       "      <td>5.000000</td>\n",
       "      <td>1501.000000</td>\n",
       "      <td>1501.000000</td>\n",
       "      <td>1.000000</td>\n",
       "      <td>-726.000000</td>\n",
       "    </tr>\n",
       "    <tr>\n",
       "      <th>25%</th>\n",
       "      <td>48.000000</td>\n",
       "      <td>1609.000000</td>\n",
       "      <td>1610.000000</td>\n",
       "      <td>3.000000</td>\n",
       "      <td>-86.000000</td>\n",
       "    </tr>\n",
       "    <tr>\n",
       "      <th>50%</th>\n",
       "      <td>65.000000</td>\n",
       "      <td>1722.000000</td>\n",
       "      <td>1727.000000</td>\n",
       "      <td>4.000000</td>\n",
       "      <td>-1.000000</td>\n",
       "    </tr>\n",
       "    <tr>\n",
       "      <th>75%</th>\n",
       "      <td>94.000000</td>\n",
       "      <td>1860.000000</td>\n",
       "      <td>1871.000000</td>\n",
       "      <td>6.000000</td>\n",
       "      <td>75.000000</td>\n",
       "    </tr>\n",
       "    <tr>\n",
       "      <th>max</th>\n",
       "      <td>222.000000</td>\n",
       "      <td>2447.000000</td>\n",
       "      <td>2462.000000</td>\n",
       "      <td>19.000000</td>\n",
       "      <td>715.000000</td>\n",
       "    </tr>\n",
       "  </tbody>\n",
       "</table>\n",
       "</div>"
      ],
      "text/plain": [
       "             turns  white_rating  black_rating  opening_ply  rating_diff\n",
       "count  1709.000000   1709.000000   1709.000000  1709.000000  1709.000000\n",
       "mean     73.164424   1753.471621   1759.155647     4.777063    -5.684026\n",
       "std      35.421358    180.567762    182.456043     2.515765   172.599554\n",
       "min       5.000000   1501.000000   1501.000000     1.000000  -726.000000\n",
       "25%      48.000000   1609.000000   1610.000000     3.000000   -86.000000\n",
       "50%      65.000000   1722.000000   1727.000000     4.000000    -1.000000\n",
       "75%      94.000000   1860.000000   1871.000000     6.000000    75.000000\n",
       "max     222.000000   2447.000000   2462.000000    19.000000   715.000000"
      ]
     },
     "execution_count": 17,
     "metadata": {},
     "output_type": "execute_result"
    }
   ],
   "source": [
    "df.describe()"
   ]
  },
  {
   "cell_type": "code",
   "execution_count": 18,
   "id": "fb7fcedb-4d3d-4de1-aa70-245a0c07fe8f",
   "metadata": {},
   "outputs": [
    {
     "name": "stdout",
     "output_type": "stream",
     "text": [
      "e4 e6 Bc4 d5 exd5 exd5 Bb3 Nf6 d3 h6 Nc3 Bc5 Qf3 Bg4 Qg3 O-O h4 Re8+ Nge2 Bb4 Bd2 Bxe2 Nxe2 Bxd2+ Kxd2 Nc6 Rae1 a5 a3 a4 Ba2 Re6 h5 Ne5 Nf4 Re8 Nh3 Qd6 f4 Ned7 Qf3 Rxe1 Rxe1 Re8 Bxd5 Rxe1 Bxf7+ Kxf7 Kxe1 Qc6 Qf2 Nxh5 g4 Qe6+ Kd1 Qxg4+ Kc1 Qxh3 Kb1 Qf5 Qe3 Nxf4 Qa7 Qd5 Qxa4 Ne6 Qb4 Qc6 Qg4 g5 Qh5+ Kg7 Qe8 Ne5 Qh5 Nf4 Qh2 Qg6 Qd2 Nf3 Qb4 b6 Qe7+ Qf7 Qe3 Nh4 Qd4+ Qf6 Qd7+ Kg6 Qe8+ Qf7 Qe4+ Nf5 Qc6+ Nd6 d4 h5 d5 Nxd5 c4 Nf4 Qf3 Qxc4 Qf2 Qe2 Qg3 Nc4 Qb3 Qxb2+ Qxb2 Nxb2 Kxb2 h4 Kb3 h3 Kb4 h2 Kb5 h1=Q Ka6 Ne6 Kb5 Qa1 Kb4 g4 Kc4 g3 Kd3 g2 Ke4 g1=Q Kd5 Qg2+ Kxe6 Qd4 Ke7 Qc6 Kf8 b5 a4 Qxa4 Ke7 Qac4 Kd8 b4 Kc8 b3 Kb8 Qe8+ Kb7 Qcb5+ Kxc7 b2 Kd6 b1=Q Kc7 Qc1+ Kd6 Qee5#\n"
     ]
    }
   ],
   "source": [
    "for move in df.loc[df['turns'] == 160]['moves']:\n",
    "    print(move)"
   ]
  },
  {
   "cell_type": "markdown",
   "id": "9c64a218-dae2-4bae-a6c9-0157756a5920",
   "metadata": {},
   "source": [
    ">How many checks per game? (+)   \n",
    ">How many new queens per game? (=)"
   ]
  },
  {
   "cell_type": "code",
   "execution_count": 19,
   "id": "c6febe10-cad0-4cc8-ae39-b4f8475d7b22",
   "metadata": {},
   "outputs": [],
   "source": [
    "df['num_checks'] = 0\n",
    "df['pawn_change'] = 0\n",
    "\n",
    "\n",
    "index = 0\n",
    "for each in df['moves']:\n",
    "    gameCheck = 0\n",
    "    gameChange = 0\n",
    "    for x in each:\n",
    "        if x == '+' or x == '#':\n",
    "            gameCheck += 1\n",
    "        if x == '=':\n",
    "            gameChange += 1\n",
    "    df['num_checks'].iloc[index] = gameCheck\n",
    "    df['pawn_change'].iloc[index] = gameChange\n",
    "    index+=1\n"
   ]
  },
  {
   "cell_type": "code",
   "execution_count": 20,
   "id": "beaee509-9c72-4b0c-8c99-bee86c26c4fb",
   "metadata": {},
   "outputs": [
    {
     "data": {
      "text/plain": [
       "<AxesSubplot: xlabel='turns'>"
      ]
     },
     "execution_count": 20,
     "metadata": {},
     "output_type": "execute_result"
    },
    {
     "data": {
      "image/png": "[encoded data removed]",
      "text/plain": [
       "<Figure size 640x480 with 1 Axes>"
      ]
     },
     "metadata": {},
     "output_type": "display_data"
    }
   ],
   "source": [
    "sns.boxplot(data = df, x = 'turns')"
   ]
  },
  {
   "cell_type": "code",
   "execution_count": 21,
   "id": "269116aa-fe8b-4f33-9b9c-66bec7153175",
   "metadata": {},
   "outputs": [
    {
     "data": {
      "text/html": [
       "<div>\n",
       "<style scoped>\n",
       "    .dataframe tbody tr th:only-of-type {\n",
       "        vertical-align: middle;\n",
       "    }\n",
       "\n",
       "    .dataframe tbody tr th {\n",
       "        vertical-align: top;\n",
       "    }\n",
       "\n",
       "    .dataframe thead th {\n",
       "        text-align: right;\n",
       "    }\n",
       "</style>\n",
       "<table border=\"1\" class=\"dataframe\">\n",
       "  <thead>\n",
       "    <tr style=\"text-align: right;\">\n",
       "      <th></th>\n",
       "      <th>id</th>\n",
       "      <th>rated</th>\n",
       "      <th>turns</th>\n",
       "      <th>victory_status</th>\n",
       "      <th>winner</th>\n",
       "      <th>white_rating</th>\n",
       "      <th>black_rating</th>\n",
       "      <th>moves</th>\n",
       "      <th>opening_eco</th>\n",
       "      <th>opening_name</th>\n",
       "      <th>opening_ply</th>\n",
       "      <th>rating_diff</th>\n",
       "      <th>num_checks</th>\n",
       "      <th>pawn_change</th>\n",
       "    </tr>\n",
       "  </thead>\n",
       "  <tbody>\n",
       "    <tr>\n",
       "      <th>64</th>\n",
       "      <td>XuyVUkDi</td>\n",
       "      <td>True</td>\n",
       "      <td>40</td>\n",
       "      <td>mate</td>\n",
       "      <td>black</td>\n",
       "      <td>1618</td>\n",
       "      <td>1568</td>\n",
       "      <td>e4 e6 Bc4 d5 exd5 exd5 Bb3 Qe7+ Ne2 Nf6 d4 Nc6...</td>\n",
       "      <td>C00</td>\n",
       "      <td>French Defense #2</td>\n",
       "      <td>2</td>\n",
       "      <td>50</td>\n",
       "      <td>4</td>\n",
       "      <td>0</td>\n",
       "    </tr>\n",
       "    <tr>\n",
       "      <th>71</th>\n",
       "      <td>DHuXFP6C</td>\n",
       "      <td>True</td>\n",
       "      <td>87</td>\n",
       "      <td>mate</td>\n",
       "      <td>white</td>\n",
       "      <td>1617</td>\n",
       "      <td>1590</td>\n",
       "      <td>d4 Nf6 e3 g6 f4 Bg7 Nf3 d5 c4 O-O Nc3 c6 Bd3 e...</td>\n",
       "      <td>A45</td>\n",
       "      <td>Indian Game</td>\n",
       "      <td>2</td>\n",
       "      <td>27</td>\n",
       "      <td>5</td>\n",
       "      <td>0</td>\n",
       "    </tr>\n",
       "    <tr>\n",
       "      <th>79</th>\n",
       "      <td>7kK30TmL</td>\n",
       "      <td>True</td>\n",
       "      <td>64</td>\n",
       "      <td>mate</td>\n",
       "      <td>black</td>\n",
       "      <td>1768</td>\n",
       "      <td>1560</td>\n",
       "      <td>e4 e6 f4 d5 e5 c5 Nf3 Nc6 c3 Nh6 d4 cxd4 cxd4 ...</td>\n",
       "      <td>C00</td>\n",
       "      <td>French Defense: La Bourdonnais Variation</td>\n",
       "      <td>3</td>\n",
       "      <td>208</td>\n",
       "      <td>6</td>\n",
       "      <td>0</td>\n",
       "    </tr>\n",
       "    <tr>\n",
       "      <th>81</th>\n",
       "      <td>4dH72B3d</td>\n",
       "      <td>True</td>\n",
       "      <td>57</td>\n",
       "      <td>mate</td>\n",
       "      <td>white</td>\n",
       "      <td>1536</td>\n",
       "      <td>1667</td>\n",
       "      <td>d4 Nf6 Bf4 d5 Nf3 Nc6 e3 Bg4 h3 Bh5 c4 e6 Qa4 ...</td>\n",
       "      <td>D02</td>\n",
       "      <td>Queen's Pawn Game: London System</td>\n",
       "      <td>5</td>\n",
       "      <td>-131</td>\n",
       "      <td>2</td>\n",
       "      <td>0</td>\n",
       "    </tr>\n",
       "    <tr>\n",
       "      <th>95</th>\n",
       "      <td>TVfozmF5</td>\n",
       "      <td>True</td>\n",
       "      <td>85</td>\n",
       "      <td>mate</td>\n",
       "      <td>white</td>\n",
       "      <td>1513</td>\n",
       "      <td>1784</td>\n",
       "      <td>d4 e6 Bf4 d5 Nf3 Qe7 e3 c5 c3 cxd4 Bb5+ Bd7 Bx...</td>\n",
       "      <td>A40</td>\n",
       "      <td>Horwitz Defense</td>\n",
       "      <td>2</td>\n",
       "      <td>-271</td>\n",
       "      <td>7</td>\n",
       "      <td>0</td>\n",
       "    </tr>\n",
       "  </tbody>\n",
       "</table>\n",
       "</div>"
      ],
      "text/plain": [
       "          id  rated  turns victory_status winner  white_rating  black_rating  \\\n",
       "64  XuyVUkDi   True     40           mate  black          1618          1568   \n",
       "71  DHuXFP6C   True     87           mate  white          1617          1590   \n",
       "79  7kK30TmL   True     64           mate  black          1768          1560   \n",
       "81  4dH72B3d   True     57           mate  white          1536          1667   \n",
       "95  TVfozmF5   True     85           mate  white          1513          1784   \n",
       "\n",
       "                                                moves opening_eco  \\\n",
       "64  e4 e6 Bc4 d5 exd5 exd5 Bb3 Qe7+ Ne2 Nf6 d4 Nc6...         C00   \n",
       "71  d4 Nf6 e3 g6 f4 Bg7 Nf3 d5 c4 O-O Nc3 c6 Bd3 e...         A45   \n",
       "79  e4 e6 f4 d5 e5 c5 Nf3 Nc6 c3 Nh6 d4 cxd4 cxd4 ...         C00   \n",
       "81  d4 Nf6 Bf4 d5 Nf3 Nc6 e3 Bg4 h3 Bh5 c4 e6 Qa4 ...         D02   \n",
       "95  d4 e6 Bf4 d5 Nf3 Qe7 e3 c5 c3 cxd4 Bb5+ Bd7 Bx...         A40   \n",
       "\n",
       "                                opening_name  opening_ply  rating_diff  \\\n",
       "64                         French Defense #2            2           50   \n",
       "71                               Indian Game            2           27   \n",
       "79  French Defense: La Bourdonnais Variation            3          208   \n",
       "81          Queen's Pawn Game: London System            5         -131   \n",
       "95                           Horwitz Defense            2         -271   \n",
       "\n",
       "    num_checks  pawn_change  \n",
       "64           4            0  \n",
       "71           5            0  \n",
       "79           6            0  \n",
       "81           2            0  \n",
       "95           7            0  "
      ]
     },
     "execution_count": 21,
     "metadata": {},
     "output_type": "execute_result"
    }
   ],
   "source": [
    "df.head()"
   ]
  },
  {
   "cell_type": "markdown",
   "id": "8535b6c5-21be-4164-afa4-f8020859a0ac",
   "metadata": {},
   "source": [
    "# Evaluation\n",
    "Based on your goal/model — how do you evaluate performance? What are the results?\n",
    "\n",
    "For example, if you are running classification models, what are the accuracies, f1 scores, etc.? If you had questions in the introduction, were you able to answer them (discuss that)? etc.\n",
    "\n",
    "Think about the best way to evaluate based on what you are trying to accomplish."
   ]
  },
  {
   "cell_type": "markdown",
   "id": "0d3a270a-27e4-4084-ad44-4b9006b8510c",
   "metadata": {},
   "source": [
    "becaues white makes the first move we believe it will have a significant impact on which team wins.  2 population proportion   \n",
    "significance level = 0.05   \n",
    "n=1709   \n",
    "Ho: p1 = p2   \n",
    "Ha: p1 != p2   \n",
    "if p <= 0.05 then reject   \n",
    "if p > 0.05 fail to reject   "
   ]
  },
  {
   "cell_type": "code",
   "execution_count": 22,
   "id": "4b65ba8b-83a7-42ee-a303-8171f612030e",
   "metadata": {},
   "outputs": [
    {
     "data": {
      "text/plain": [
       "[866, 843]"
      ]
     },
     "execution_count": 22,
     "metadata": {},
     "output_type": "execute_result"
    }
   ],
   "source": [
    "list(df['winner'].value_counts())"
   ]
  },
  {
   "cell_type": "code",
   "execution_count": 24,
   "id": "8ef3a5e0-949a-4e7b-b82f-d32597c96611",
   "metadata": {},
   "outputs": [],
   "source": [
    "# number of trials. aka the total number of games, our n\n",
    "nobs = [df['winner'].value_counts().sum()]*2\n",
    "\n",
    "# number of wins for each player, so 866 and 843\n",
    "count = count=list(df['winner'].value_counts())  "
   ]
  },
  {
   "cell_type": "code",
   "execution_count": 25,
   "id": "af84ab57-5ed0-4313-88ee-6b61585f4b3c",
   "metadata": {},
   "outputs": [],
   "source": [
    "zstat, pval = proportions_ztest(count, nobs, alternative = 'two-sided' )"
   ]
  },
  {
   "cell_type": "code",
   "execution_count": 26,
   "id": "2819a20d-7b2d-4e2d-bf91-113a3d17ef84",
   "metadata": {},
   "outputs": [
    {
     "name": "stdout",
     "output_type": "stream",
     "text": [
      "0.43\n"
     ]
    }
   ],
   "source": [
    "print(round(pval,2))"
   ]
  },
  {
   "cell_type": "markdown",
   "id": "59a40e6c-7ecc-408d-ba9a-a2ebde92f285",
   "metadata": {},
   "source": [
    "### With a p-value of 0.43 > 0.05 we now know that they are statistically the same! They win at the same rates!"
   ]
  },
  {
   "cell_type": "code",
   "execution_count": 27,
   "id": "ab15b978-0261-425b-b8f3-c458e7c676f1",
   "metadata": {},
   "outputs": [
    {
     "data": {
      "text/plain": [
       "<class 'statsmodels.stats.base.HolderTuple'>\n",
       "statistic = 0.7864245652046729\n",
       "pvalue = 0.21580939829238888\n",
       "compare = 'diff'\n",
       "method = None\n",
       "results_larger = <class 'statsmodels.stats.base.HolderTuple'>\n",
       "    statistic = 0.7864245652046729\n",
       "    pvalue = 0.21580939829238888\n",
       "    compare = 'diff'\n",
       "    method = 'agresti-caffo'\n",
       "    diff = 0.01345816266822708\n",
       "    ratio = 1.0272835112692764\n",
       "    odds_ratio = 1.0553114125257337\n",
       "    variance = 0.0002921739628988973\n",
       "    alternative = 'larger'\n",
       "    value = 0\n",
       "    tuple = (0.7864245652046729, 0.21580939829238888)\n",
       "results_smaller = <class 'statsmodels.stats.base.HolderTuple'>\n",
       "    statistic = 0.7864245652046729\n",
       "    pvalue = 0.7841906017076111\n",
       "    compare = 'diff'\n",
       "    method = 'agresti-caffo'\n",
       "    diff = 0.01345816266822708\n",
       "    ratio = 1.0272835112692764\n",
       "    odds_ratio = 1.0553114125257337\n",
       "    variance = 0.0002921739628988973\n",
       "    alternative = 'smaller'\n",
       "    value = 0\n",
       "    tuple = (0.7864245652046729, 0.7841906017076111)\n",
       "title = 'Equivalence test for 2 independent proportions'\n",
       "tuple = (0.7864245652046729, 0.21580939829238888)"
      ]
     },
     "execution_count": 27,
     "metadata": {},
     "output_type": "execute_result"
    }
   ],
   "source": [
    "# .tost_proportions_2indep(count1, nobs1, count2, nobs2, low, upp, method=None, compare='diff', correction=True)\n",
    "tost_proportions_2indep(count1 = list(df['winner'].value_counts())[0],\n",
    "                        count2 = list(df['winner'].value_counts())[1],\n",
    "                        nobs1 = df['winner'].value_counts().sum(),\n",
    "                        nobs2 = df['winner'].value_counts().sum(),\n",
    "                        low=0,\n",
    "                        upp=0,\n",
    "                        compare='diff')"
   ]
  },
  {
   "cell_type": "markdown",
   "id": "6c2dc7e3-f1cf-427a-a348-59343604a469",
   "metadata": {},
   "source": [
    ">And again just in case...      \n",
    "p-val of 0.21   \n",
    "Definitely the same, statistically"
   ]
  },
  {
   "cell_type": "markdown",
   "id": "4c2a2bdd-8585-48e2-80bf-c530d58cc9c2",
   "metadata": {},
   "source": [
    "# Storytelling and Conclusion\n",
    "What insights did you gain through your project? Were you able to answer your initial problems? Obtain your initial goal? What stories can you tell? Do you have future steps in mind or things that could have been improved? ***For full credit here, you will need to show your critical thinking throughout.***\n",
    "\n",
    "What have you learned throughout this project and the entire class?"
   ]
  },
  {
   "cell_type": "code",
   "execution_count": 65,
   "id": "d6321c8c-32ff-4981-bc7c-86a493617db9",
   "metadata": {},
   "outputs": [
    {
     "data": {
      "text/plain": [
       "<seaborn.axisgrid.FacetGrid at 0x2377e5dfb80>"
      ]
     },
     "execution_count": 65,
     "metadata": {},
     "output_type": "execute_result"
    },
    {
     "data": {
      "image/png": "[encoded data removed]",
      "text/plain": [
       "<Figure size 588x500 with 1 Axes>"
      ]
     },
     "metadata": {},
     "output_type": "display_data"
    }
   ],
   "source": [
    "sns.displot(data=df[['turns', 'winner']], x='winner', y='turns', hue='winner')"
   ]
  },
  {
   "cell_type": "markdown",
   "id": "4a08df34-4d68-481a-adef-16f968ff7959",
   "metadata": {},
   "source": [
    "# Impact Section\n",
    "Discuss the impact of your project. This can be socially, ethically, etc. It cannot be something like \"our project has no impact\" or \"our project has no negative impact.\" Even the most well-intentioned projects *could* have negative impact. We will not be checking for \"right\" or \"wrong\" answers, but showing your critical thinking."
   ]
  },
  {
   "cell_type": "markdown",
   "id": "617346d5-7cbb-4379-a87d-4f6473024bf4",
   "metadata": {},
   "source": [
    "# Github Repository/Code/Data\n",
    "Make sure to include the link to the repository and we are able to view it. Also include access to any data used."
   ]
  },
  {
   "cell_type": "markdown",
   "id": "6a0a339c-0d01-4ed0-8247-5f11ff3b986b",
   "metadata": {},
   "source": [
    "https://github.com/matthewasloan95/chess"
   ]
  },
  {
   "cell_type": "code",
   "execution_count": null,
   "id": "d29512d4-9629-48c2-8cc5-77b63907bb12",
   "metadata": {},
   "outputs": [],
   "source": []
  }
 ],
 "metadata": {
  "kernelspec": {
   "display_name": "Python [conda env:dtsc] *",
   "language": "python",
   "name": "conda-env-dtsc-py"
  },
  "language_info": {
   "codemirror_mode": {
    "name": "ipython",
    "version": 3
   },
   "file_extension": ".py",
   "mimetype": "text/x-python",
   "name": "python",
   "nbconvert_exporter": "python",
   "pygments_lexer": "ipython3",
   "version": "3.9.13"
  }
 },
 "nbformat": 4,
 "nbformat_minor": 5
}
